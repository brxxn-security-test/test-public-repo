{
    "cells": [
        {
            "cell_type": "markdown",
            "metadata": {
                "colab_type": "text",
                "id": "00000"
            },
            "source": [
                "## Markdown XSS Tests",
                "**[test](javascript:alert('hi'))**"
            ]
        },
        {
            "cell_type": "markdown",
            "metadata": {
              "colab_type": "text",
              "id": "MfBg1C5NB3X0"
            },
            "source": [
              "# Title\n",
              "\n",
              "_Notebook orignially contributed by: {link to you}_\n",
              "\n",
              "\u003ctable class=\"tfo-notebook-buttons\" align=\"left\"\u003e\n",
              "  \u003ctd\u003e\n",
              "    \u003ca target=\"_blank\" href=\"https://colab.research.google.com/github/tensorflow/examples/blob/master/template/notebook.ipynb\"\u003e\u003cimg src=\"https://www.tensorflow.org/images/colab_logo_32px.sd\" onerror=\"alert('test')\" /\u003eRun in Google Colab\u003c/a\u003e\n",
              "  \u003c/td\u003e\n",
              "  \u003ctd\u003e\n",
              "    \u003ca target=\"_blank\" href=\"https://github.com/tensorflow/examples/blob/master/template/notebook.ipynb\"\u003e\u003cimg src=\"https://www.tensorflow.org/images/GitHub-Mark-32px.png\" /\u003eView source on GitHub\u003c/a\u003e\n",
              "  \u003c/td\u003e\n",
              "\u003c/table\u003e"
            ]
        }
    ],
    "nbformat": 4,
    "nbformat_minor": 0
}
